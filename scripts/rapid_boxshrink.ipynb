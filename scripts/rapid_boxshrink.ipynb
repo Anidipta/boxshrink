{
 "cells": [
  {
   "cell_type": "code",
   "execution_count": 1,
   "metadata": {},
   "outputs": [
    {
     "name": "stderr",
     "output_type": "stream",
     "text": [
      "/Users/michaelgroeger/miniconda3/envs/exp/lib/python3.6/site-packages/tqdm/auto.py:22: TqdmWarning: IProgress not found. Please update jupyter and ipywidgets. See https://ipywidgets.readthedocs.io/en/stable/user_install.html\n",
      "  from .autonotebook import tqdm as notebook_tqdm\n"
     ]
    }
   ],
   "source": [
    "from superpixels import export_superpixel_crf_masks_for_dataset\n",
    "from dataset import Colonoscopy_Dataset\n",
    "from tools import (\n",
    "    return_files_in_directory,\n",
    "    human_sort\n",
    "    )\n",
    "from config import *\n",
    "import os"
   ]
  },
  {
   "cell_type": "code",
   "execution_count": 2,
   "metadata": {},
   "outputs": [],
   "source": [
    "DATA_DIR = BASE_DIR + '/data'\n",
    "image_files = return_files_in_directory(DATA_DIR + \"/original\", \".tif\")\n",
    "box_files = return_files_in_directory(DATA_DIR + \"/boxmasks\", \".png\")\n",
    "\n",
    "human_sort(image_files)\n",
    "human_sort(box_files)"
   ]
  },
  {
   "cell_type": "code",
   "execution_count": 3,
   "metadata": {},
   "outputs": [],
   "source": [
    "# Limit size to the first 100 elements for testing purposes\n",
    "dataset = Colonoscopy_Dataset(image_files, box_files)"
   ]
  },
  {
   "cell_type": "code",
   "execution_count": 5,
   "metadata": {},
   "outputs": [
    {
     "name": "stderr",
     "output_type": "stream",
     "text": [
      "125it [01:02,  1.89it/s]"
     ]
    }
   ],
   "source": [
    "TESTING_DIR = DATA_DIR + \"/testing/rapid_boxshrink\"\n",
    "if not os.path.exists(TESTING_DIR):\n",
    "    os.makedirs(TESTING_DIR)\n",
    "export_superpixel_crf_masks_for_dataset(dataset=dataset, export_path=TESTING_DIR)"
   ]
  },
  {
   "cell_type": "code",
   "execution_count": null,
   "metadata": {},
   "outputs": [],
   "source": []
  }
 ],
 "metadata": {
  "kernelspec": {
   "display_name": "Python 3.6.13 ('exp')",
   "language": "python",
   "name": "python3"
  },
  "language_info": {
   "codemirror_mode": {
    "name": "ipython",
    "version": 3
   },
   "file_extension": ".py",
   "mimetype": "text/x-python",
   "name": "python",
   "nbconvert_exporter": "python",
   "pygments_lexer": "ipython3",
   "version": "3.6.13"
  },
  "orig_nbformat": 4,
  "vscode": {
   "interpreter": {
    "hash": "6983950551d508ece7d060bd69abf72c956c6006f77cfb60ae510ec63a0df288"
   }
  }
 },
 "nbformat": 4,
 "nbformat_minor": 2
}
