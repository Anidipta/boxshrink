{
 "cells": [
  {
   "cell_type": "code",
   "execution_count": 1,
   "metadata": {},
   "outputs": [],
   "source": [
    "from torchvision.transforms import ToTensor\n",
    "from PIL import Image\n",
    "import torch\n",
    "from tqdm import tqdm\n",
    "from scripts.voc_tools.voc_tools import visualize, return_files_in_directory, generate_mask_from_box, create_dataset,get_bounding_boxes, export_dataset, import_dataset\n",
    "from tifffile import imread\n",
    "\n",
    "def span_columns(max_x, max_y):\n",
    "    cols = torch.zeros([max_y, max_x])\n",
    "    for i in range(max_x):\n",
    "        cols[:,i] = (i+1)\n",
    "    return cols\n",
    "\n",
    "def span_rows(max_x, max_y):\n",
    "    rows = torch.zeros([max_y, max_x])\n",
    "    for i in range(max_y):\n",
    "        rows[i,:] = (i+1)\n",
    "    return rows\n",
    "\n",
    "def get_bbox_coordinates_one_box(tensor): \n",
    "    all_x, all_y = (tensor.squeeze() == 1).nonzero(as_tuple=True)\n",
    "    smallest_x, smallest_y = torch.min(all_x).item(), torch.min(all_y).item()\n",
    "    largest_x, largest_y = torch.max(all_x).item(), torch.max(all_y).item()\n",
    "    return (smallest_y, smallest_x), (largest_y, largest_x)\n",
    "\n",
    "def get_min_max_x(unique_tensor):\n",
    "    unique_tensor = unique_tensor[unique_tensor!= 0]\n",
    "    min_xs = []\n",
    "    min_xs.append(unique_tensor[0].item())\n",
    "    max_xs = []\n",
    "    spotted_more_than_one_box = False\n",
    "    for i in range(len(unique_tensor)):\n",
    "        next_idx = (i+1)\n",
    "        if next_idx <= (len(unique_tensor) -1):\n",
    "            next_element = unique_tensor[next_idx]\n",
    "            current_element = unique_tensor[i]\n",
    "            diff = next_element - current_element\n",
    "            if diff > 1:\n",
    "                spotted_more_than_one_box = True\n",
    "                min_xs.append(next_element.item())\n",
    "                max_xs.append(current_element.item())\n",
    "        else:\n",
    "            current_element = unique_tensor[i]\n",
    "            max_xs.append(current_element.item())\n",
    "    return min_xs, max_xs, spotted_more_than_one_box\n",
    "\n",
    "\n",
    "\n",
    "def get_min_max_y(base_tensor, min_xs, max_xs):\n",
    "    ys = base_tensor[1]\n",
    "    min_ys, max_ys = [], []\n",
    "    # Slice tensor and extract values\n",
    "    for idx, i in enumerate(min_xs):\n",
    "        # slice colum wise\n",
    "        start = int(i-1)\n",
    "        end = int(max_xs[idx])\n",
    "        slice = ys[:,start:end]\n",
    "        # get unique values\n",
    "        unique_tensor = torch.unique(slice)\n",
    "        unique_tensor = unique_tensor[unique_tensor!= 0]\n",
    "        min_ys.append(unique_tensor[0].item())\n",
    "        for i in range(len(unique_tensor)):\n",
    "                next_idx = (i+1)\n",
    "                if next_idx <= (len(unique_tensor) -1):\n",
    "                    next_element = unique_tensor[next_idx]\n",
    "                    current_element = unique_tensor[i]\n",
    "                    diff = next_element - current_element\n",
    "                    if diff > 1:\n",
    "                        min_ys.append(next_element.item())\n",
    "                        max_ys.append(current_element.item())\n",
    "                else:\n",
    "                    current_element = unique_tensor[i]\n",
    "                    max_ys.append(current_element.item())\n",
    "    return min_ys, max_ys\n",
    "    \n",
    "\n",
    "def get_bbox_coordinates(tensor):\n",
    "    # get base\n",
    "    n_rows = tensor.shape[0]\n",
    "    n_cols = tensor.shape[1]\n",
    "    cols = span_columns(n_cols, n_rows)\n",
    "    rows = span_rows(n_cols, n_rows)\n",
    "    base = torch.zeros([2, n_rows, n_cols])\n",
    "    base[0,:,:] = cols\n",
    "    base[1,:,:] = rows\n",
    "    res = tensor * base\n",
    "    min_xs, max_xs, spotted_more_than_one_box = get_min_max_x(torch.unique(res[0]))\n",
    "    if spotted_more_than_one_box == True:\n",
    "        min_ys, max_ys  = get_min_max_y(res, min_xs, max_xs)\n",
    "        # build min\n",
    "        if len(min_xs) < len(min_ys):\n",
    "            min_xs = [min_xs[-1] for i in range(len(min_ys))]\n",
    "            max_xs = [max_xs[-1] for i in range(len(min_ys))]\n",
    "        if len(min_ys) < len(min_xs):\n",
    "            min_ys = [min_ys[-1] for i in range(len(min_xs))]\n",
    "            max_ys = [max_ys[-1] for i in range(len(min_xs))]\n",
    "        coord = [((min_xs[i], min_ys[i]), (max_xs[i], max_ys[i])) for i in range(len(min_xs))]\n",
    "        return coord, spotted_more_than_one_box\n",
    "    else:\n",
    "        return get_bbox_coordinates_one_box(tensor), spotted_more_than_one_box"
   ]
  },
  {
   "cell_type": "code",
   "execution_count": 2,
   "metadata": {},
   "outputs": [
    {
     "data": {
      "image/png": "[encoded data removed]",
      "text/plain": [
       "<Figure size 1152x360 with 1 Axes>"
      ]
     },
     "metadata": {},
     "output_type": "display_data"
    }
   ],
   "source": [
    "idx = 77\n",
    "img = torch.Tensor(imread(f\"./data/CVC-ClinicDB-1/Ground Truth/{idx}.tif\")).long()\n",
    "visualize(img=img)"
   ]
  },
  {
   "cell_type": "code",
   "execution_count": 3,
   "metadata": {},
   "outputs": [],
   "source": [
    "image_with_many_classes = [71, 545, 546]"
   ]
  },
  {
   "cell_type": "code",
   "execution_count": 4,
   "metadata": {},
   "outputs": [],
   "source": [
    "# for i in image_with_many_classes:\n",
    "#     path = f\"/Users/michaelgroeger/workspace/FEA_Internship/boxshrink/medical_ai_challenge/data/CVC-ClinicDB-1/Original/{i}.tif\"\n",
    "#     img = Image.fromarray(imread(path), mode=\"RGB\")\n",
    "#     output_path_mask = path.replace(\"Original\", \"multiple_findings\").replace(\"tif\", \"png\")\n",
    "#     img.save(output_path_mask, quality=100, subsampling=0)"
   ]
  },
  {
   "cell_type": "code",
   "execution_count": 5,
   "metadata": {},
   "outputs": [],
   "source": [
    "def get_bbox_coordinates_one_box(tensor): \n",
    "    all_x, all_y = (tensor.squeeze() == 1).nonzero(as_tuple=True)\n",
    "    smallest_x, smallest_y = torch.min(all_x).item(), torch.min(all_y).item()\n",
    "    largest_x, largest_y = torch.max(all_x).item(), torch.max(all_y).item()\n",
    "    return (smallest_x, smallest_y), (largest_x, largest_y)"
   ]
  },
  {
   "cell_type": "code",
   "execution_count": 6,
   "metadata": {},
   "outputs": [],
   "source": [
    "import numpy as np\n",
    "# Function to generate masks from bounding boxes\n",
    "def generate_mask_from_box_colonoscopy(\n",
    "    image,\n",
    "    smallest,\n",
    "    largest,\n",
    "):\n",
    "    \"\"\"Function to generate the box-like segmentation masks to be used uring training\n",
    "\n",
    "    Args:\n",
    "        dataset (csv): csv holding path to each considered xml file\n",
    "        category_data (csv): csv: index,category,red,green,blue -> 1,person,192,128,128\n",
    "        output_path (string): where to put the masks\n",
    "    \"\"\"\n",
    "    image_width, image_height = image.shape[2], image.shape[1]\n",
    "    # Create mask\n",
    "    mask = np.zeros([image_height, image_width], dtype=np.uint8)\n",
    "    # Get all boxes present on the image\n",
    "    # get coordinates\n",
    "    ymin, xmin, ymax, xmax = (\n",
    "        smallest[1], smallest[0], largest[1], largest[0]\n",
    "    )\n",
    "    # Python does array[inclusive:exclusive] therefore we need to add + 1 to the max values\n",
    "    # But then we also need to catch the case that the +1 will be out of the image\n",
    "    if ymax != image_height:\n",
    "        ymax = ymax + 1\n",
    "    if xmax != image_width:\n",
    "        xmax = xmax + 1\n",
    "    mask[xmin:xmax, ymin:ymax] = 1\n",
    "    mask = Image.fromarray(np.uint8(mask * 255) , 'L')\n",
    "    return mask"
   ]
  },
  {
   "cell_type": "code",
   "execution_count": 10,
   "metadata": {},
   "outputs": [],
   "source": [
    "pngs = return_files_in_directory(\"./data/CVC-ClinicDB-1/multiple_findings/colonoscopy-multiple-findings\", \".png\")\n",
    "for png in pngs:\n",
    "    img = Image.open(png).convert('L')\n",
    "    name = png.split('/')[-1]\n",
    "    img.save(f\"./data/CVC-ClinicDB-1/multiple_findings/colonoscopy-multiple-findings/grayscale/{name}\", quality=100, subsampling=0)"
   ]
  },
  {
   "cell_type": "code",
   "execution_count": 200,
   "metadata": {},
   "outputs": [],
   "source": [
    "def infer_all_bboxes(mask_dir, box_dir):\n",
    "    # get all masks from dir\n",
    "    files = return_files_in_directory(mask_dir, ending=\".tif\")\n",
    "    for idx, mask_path in tqdm(enumerate(files), desc=\"Creating Boxes from masks\"):\n",
    "        # load image\n",
    "        image = Image.open(mask_path)\n",
    "        image = ToTensor()(image)\n",
    "        # map all positive values to 1\n",
    "        image[image>0] = 1.0\n",
    "        # get box coordinates\n",
    "        smallest, largest = get_bbox_coordinates(image)\n",
    "        # infer mask\n",
    "        bb_mask = generate_mask_from_box_colonoscopy(image=image, smallest=smallest, largest=largest)\n",
    "        # save mask to new dir\n",
    "        output_path_mask = (\n",
    "            box_dir + \"/\" + mask_path.split('/')[-1]\n",
    "        ).replace(\"tif\", \"png\")\n",
    "        bb_mask.save(output_path_mask, quality=100, subsampling=0)"
   ]
  },
  {
   "cell_type": "code",
   "execution_count": 201,
   "metadata": {},
   "outputs": [
    {
     "data": {
      "image/png": "[encoded data removed]",
      "text/plain": [
       "<Figure size 1152x360 with 1 Axes>"
      ]
     },
     "metadata": {},
     "output_type": "display_data"
    }
   ],
   "source": [
    "idx = 351\n",
    "\n",
    "image = Image.open(f\"./data/CVC-ClinicDB-1/Ground Truth/{idx}.tif\")\n",
    "image = ToTensor()(image)\n",
    "visualize(img=image.permute(1,2,0))"
   ]
  },
  {
   "cell_type": "code",
   "execution_count": 202,
   "metadata": {},
   "outputs": [],
   "source": [
    "xml_path = \"./data/CVC-ClinicDB-1/multiple_findings/colonoscopy-multiple-findings\"\n",
    "category_path = \"./data/CVC-ClinicDB-1/multiple_findings/colonoscopy-multiple-findings/color_codes.csv\"\n",
    "xmls = return_files_in_directory(xml_path, ending='xml')"
   ]
  },
  {
   "cell_type": "code",
   "execution_count": 229,
   "metadata": {},
   "outputs": [
    {
     "name": "stderr",
     "output_type": "stream",
     "text": [
      "Creating dataset: 100%|██████████| 30/30 [00:00<00:00, 423.30it/s]\n"
     ]
    }
   ],
   "source": [
    "ds = create_dataset(xmls, \"name\", condition=\"1\")"
   ]
  },
  {
   "cell_type": "code",
   "execution_count": 232,
   "metadata": {},
   "outputs": [],
   "source": [
    "export_dataset(ds[0], \"./data/CVC-ClinicDB-1/multiple_findings/colonoscopy-multiple-findings/dataset.csv\")"
   ]
  },
  {
   "cell_type": "code",
   "execution_count": 233,
   "metadata": {},
   "outputs": [
    {
     "name": "stderr",
     "output_type": "stream",
     "text": [
      "Creating Masks: 100%|██████████| 30/30 [00:00<00:00, 38.47it/s]\n"
     ]
    }
   ],
   "source": [
    "dsi = import_dataset(\"./data/CVC-ClinicDB-1/multiple_findings/colonoscopy-multiple-findings/dataset.csv\")\n",
    "generate_mask_from_box(dsi, category_path, \"./data/CVC-ClinicDB-1/multiple_findings/colonoscopy-multiple-findings\")"
   ]
  }
 ],
 "metadata": {
  "interpreter": {
   "hash": "c46e6bf4e9d1e0cccc1750c14946f2a66e9455538981af60f616bc3d6968a798"
  },
  "kernelspec": {
   "display_name": "Python 3.7.6 64-bit ('3.7.6')",
   "language": "python",
   "name": "python3"
  },
  "language_info": {
   "codemirror_mode": {
    "name": "ipython",
    "version": 3
   },
   "file_extension": ".py",
   "mimetype": "text/x-python",
   "name": "python",
   "nbconvert_exporter": "python",
   "pygments_lexer": "ipython3",
   "version": "3.7.6"
  },
  "orig_nbformat": 4
 },
 "nbformat": 4,
 "nbformat_minor": 2
}
