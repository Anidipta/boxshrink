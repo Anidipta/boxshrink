{
 "cells": [
  {
   "cell_type": "code",
   "execution_count": 1,
   "metadata": {},
   "outputs": [
    {
     "name": "stderr",
     "output_type": "stream",
     "text": [
      "Creating Boxes from masks: 10it [00:00, 59.78it/s]"
     ]
    },
    {
     "name": "stdout",
     "output_type": "stream",
     "text": [
      "Went for one box\n",
      "Smallest (40, 13), Largest (133, 266)\n",
      "Went for one box\n",
      "Smallest (29, 174), Largest (306, 287)\n",
      "Went for one box\n",
      "Smallest (10, 132), Largest (338, 287)\n",
      "Went for one box\n",
      "Smallest (0, 130), Largest (270, 287)\n",
      "Went for one box\n",
      "Smallest (0, 127), Largest (270, 287)\n",
      "Went for one box\n",
      "Smallest (0, 155), Largest (265, 287)\n",
      "Went for one box\n",
      "Smallest (4, 135), Largest (259, 287)\n",
      "Went for one box\n",
      "Smallest (0, 120), Largest (272, 287)\n",
      "Went for one box\n",
      "Smallest (39, 101), Largest (215, 280)\n",
      "Went for one box\n",
      "Smallest (39, 100), Largest (236, 280)\n"
     ]
    },
    {
     "name": "stderr",
     "output_type": "stream",
     "text": [
      "\n"
     ]
    }
   ],
   "source": [
    "from infer_bounding_boxes import infer_all_bboxes\n",
    "infer_all_bboxes(\"/Users/michaelgroeger/workspace/FEA_Internship/publication/boxshrink/data/testing/mask\", \"/Users/michaelgroeger/workspace/FEA_Internship/publication/boxshrink/data/testing/bb_mask\")"
   ]
  },
  {
   "cell_type": "code",
   "execution_count": 5,
   "metadata": {},
   "outputs": [
    {
     "data": {
      "image/png": "[encoded data removed]",
      "text/plain": [
       "<Figure size 1152x360 with 1 Axes>"
      ]
     },
     "metadata": {},
     "output_type": "display_data"
    }
   ],
   "source": [
    "from PIL import Image\n",
    "from torchvision.transforms import ToTensor\n",
    "from tools import visualize\n",
    "idx = 10\n",
    "\n",
    "image = Image.open(f\"/Users/michaelgroeger/workspace/FEA_Internship/publication/boxshrink/data/testing/mask/{idx}.tif\")\n",
    "image = ToTensor()(image)\n",
    "visualize(img=image.permute(1,2,0))"
   ]
  },
  {
   "cell_type": "code",
   "execution_count": null,
   "metadata": {},
   "outputs": [],
   "source": []
  }
 ],
 "metadata": {
  "interpreter": {
   "hash": "c46e6bf4e9d1e0cccc1750c14946f2a66e9455538981af60f616bc3d6968a798"
  },
  "kernelspec": {
   "display_name": "Python 3.7.6 64-bit ('3.7.6')",
   "language": "python",
   "name": "python3"
  },
  "language_info": {
   "codemirror_mode": {
    "name": "ipython",
    "version": 3
   },
   "file_extension": ".py",
   "mimetype": "text/x-python",
   "name": "python",
   "nbconvert_exporter": "python",
   "pygments_lexer": "ipython3",
   "version": "3.7.6"
  },
  "orig_nbformat": 4
 },
 "nbformat": 4,
 "nbformat_minor": 2
}
