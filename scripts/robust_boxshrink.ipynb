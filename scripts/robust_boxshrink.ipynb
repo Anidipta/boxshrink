{
 "cells": [
  {
   "cell_type": "code",
   "execution_count": 1,
   "metadata": {},
   "outputs": [
    {
     "name": "stderr",
     "output_type": "stream",
     "text": [
      "/Users/michaelgroeger/miniconda3/envs/boxshrink/lib/python3.8/site-packages/tqdm/auto.py:22: TqdmWarning: IProgress not found. Please update jupyter and ipywidgets. See https://ipywidgets.readthedocs.io/en/stable/user_install.html\n",
      "  from .autonotebook import tqdm as notebook_tqdm\n"
     ]
    }
   ],
   "source": [
    "from superpixels import export_superpixel_crf_masks_for_dataset\n",
    "from dataset import Colonoscopy_Dataset\n",
    "from tools import (\n",
    "    return_files_in_directory,\n",
    "    human_sort,\n",
    "    overlay_mask_on_image\n",
    "    )\n",
    "from crf import pass_pseudomask_or_ground_truth\n",
    "from crf import crf\n",
    "from config import *\n",
    "import os\n",
    "from embeddings import ResnetFeatureExtractor, generate_embedding_masks_for_dataset\n",
    "from sklearn.model_selection import train_test_split\n",
    "from torch.utils.data import DataLoader, Subset\n",
    "import torchvision\n",
    "from tqdm import tqdm\n",
    "from tools import visualize\n",
    "from embeddings import get_mean_embeddings\n",
    "import numpy as np\n",
    "import matplotlib.pyplot as plt\n",
    "from skimage.segmentation import mark_boundaries, slic\n",
    "import numpy as np"
   ]
  },
  {
   "cell_type": "code",
   "execution_count": 2,
   "metadata": {},
   "outputs": [],
   "source": [
    "%%capture\n",
    "# A model wrapper that gets a resnet model and returns the features before the fully connected layer.\n",
    "# resnet = torchvision.models.resnet50(pretrained=True)\n",
    "# resnet.eval()\n",
    "# feature_extract_model = ResnetFeatureExtractor(resnet)\n",
    "# feature_extract_model.to(DEVICE)"
   ]
  },
  {
   "cell_type": "code",
   "execution_count": 3,
   "metadata": {},
   "outputs": [],
   "source": [
    "DATA_DIR = BASE_DIR + '/data'\n",
    "image_files = return_files_in_directory(DATA_DIR + \"/original\", \".tif\")\n",
    "box_files = return_files_in_directory(DATA_DIR + \"/boxmasks\", \".png\")\n",
    "# Ensure files are in correct order\n",
    "human_sort(image_files)\n",
    "human_sort(box_files)\n",
    "# image_files = image_files[:10]\n",
    "# box_files = box_files[:10]\n",
    "# Now it is important to only take the training dataset so the embeddings from the other sets aren't considered in the \n",
    "# mean embedding\n",
    "# TODO: Check if the random state is persistant across restarts\n",
    "X_train, X_test, y_train, y_test = train_test_split(image_files, box_files, test_size=0.1, random_state=1)\n",
    "X_train, X_val, y_train, y_val = train_test_split(X_train, y_train, test_size=0.11111, random_state=1) # 0.1111 x 0.9 = 0.1\n",
    "\n",
    "dataset = Colonoscopy_Dataset(X_train[:5], y_train[:5])\n",
    "data_loader = DataLoader(dataset, batch_size=64, shuffle=False, num_workers=0)\n",
    "\n",
    "TESTING_DIR = DATA_DIR + \"/testing/robust_boxshrink\"\n",
    "EMBEDDING_DIR = DATA_DIR + \"/testing/mean_embeddings/\"\n",
    "if not os.path.exists(TESTING_DIR):\n",
    "    os.makedirs(TESTING_DIR)\n",
    "\n",
    "if not os.path.exists(EMBEDDING_DIR):\n",
    "    os.makedirs(EMBEDDING_DIR)"
   ]
  },
  {
   "cell_type": "code",
   "execution_count": 4,
   "metadata": {},
   "outputs": [],
   "source": [
    "## Get mean embeddings\n",
    "f = torch.load(EMBEDDING_DIR + \"foreground_embeddings_ns250_th01_sp_crf_masks.pt\")\n",
    "b = torch.load(EMBEDDING_DIR + \"background_embeddings_ns250_th01_sp_crf_masks.pt\")\n",
    "mean_f = torch.mean(f, dim=0)\n",
    "mean_b = torch.mean(b, dim=0)\n",
    "train_inputs, train_labels, train_org_images = next(iter(data_loader))"
   ]
  },
  {
   "cell_type": "code",
   "execution_count": 5,
   "metadata": {},
   "outputs": [
    {
     "name": "stderr",
     "output_type": "stream",
     "text": [
      "Generating Embedding Masks: 100%|██████████| 1/1 [00:14<00:00, 14.71s/batch]"
     ]
    },
    {
     "name": "stdout",
     "output_type": "stream",
     "text": [
      "torch.Size([5, 288, 384])\n"
     ]
    },
    {
     "name": "stderr",
     "output_type": "stream",
     "text": [
      "\n"
     ]
    }
   ],
   "source": [
    "import time\n",
    "from embeddings import create_embedding_mask\n",
    "from crf import pass_pseudomask_or_ground_truth\n",
    "from embeddings import ResnetFeatureExtractor\n",
    "        \n",
    "resnet = torchvision.models.resnet50(weights=\"ResNet50_Weights.IMAGENET1K_V2\")\n",
    "resnet.eval()\n",
    "feature_extract_model = ResnetFeatureExtractor(resnet)\n",
    "\n",
    "feature_extract_model.to(DEVICE)\n",
    "res = generate_embedding_masks_for_dataset(dataset, '/Users/michaelgroeger/workspace/FEA_Internship/publication/boxshrink/scripts/tests/test_embedding_masks', feature_extract_model, mean_f, mean_b, save_masks=False, return_masks=True)\n",
    "print(res.shape)\n",
    "\n",
    "# for epoch in range(0, 1):\n",
    "#     with tqdm(data_loader, unit=\"batch\") as tepoch:\n",
    "#         for train_inputs, train_labels, train_org_images in tepoch:\n",
    "#             counter = 0\n",
    "#             for idx in range(train_labels.shape[0]):\n",
    "#                 embedding_mask_outer_fct, os, emrsp, aspm = create_embedding_mask(train_labels[idx], \n",
    "#                                                                 train_org_images[idx], \n",
    "#                                                                 train_inputs[idx], \n",
    "#                                                                 N_SEGMENTS=300, \n",
    "#                                                                 threshold_embedding=0,\n",
    "#                                                                 iter=1,\n",
    "#                                                                 threshold_closeness=0.05,\n",
    "#                                                                 mean_foreground_embedding=mean_f,\n",
    "#                                                                 mean_background_embedding=mean_b,\n",
    "#                                                                 model=feature_extract_model)\n",
    "#                 embedding_mask_outer_fct = pass_pseudomask_or_ground_truth(train_labels[idx].to(DEVICE), embedding_mask_outer_fct.to(DEVICE), iou_threshold=0.1, mask_occupancy_threshold=0.04)\n",
    "                \n",
    "#                 overlay_1 = overlay_mask_on_image(train_org_images[idx], embedding_mask_outer_fct.cpu())\n",
    "#                 visualize(img=train_org_images[idx].cpu(), gt_box=train_labels[idx].cpu(), embedding_mask_outer_fct=embedding_mask_outer_fct.cpu(), overlay_1=overlay_1)\n",
    "#                 counter += 1\n",
    "#                 if counter == 10:\n",
    "#                   break"
   ]
  }
 ],
 "metadata": {
  "kernelspec": {
   "display_name": "Python 3.8.13 ('boxshrink')",
   "language": "python",
   "name": "python3"
  },
  "language_info": {
   "codemirror_mode": {
    "name": "ipython",
    "version": 3
   },
   "file_extension": ".py",
   "mimetype": "text/x-python",
   "name": "python",
   "nbconvert_exporter": "python",
   "pygments_lexer": "ipython3",
   "version": "3.8.13"
  },
  "orig_nbformat": 4,
  "vscode": {
   "interpreter": {
    "hash": "3e03cce523887ef4ae3cc71c66ab4ee9a46035781549cd05776eda36e5299632"
   }
  }
 },
 "nbformat": 4,
 "nbformat_minor": 2
}
