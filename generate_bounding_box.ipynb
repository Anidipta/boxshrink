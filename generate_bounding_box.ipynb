{
 "cells": [
  {
   "cell_type": "code",
   "execution_count": 4,
   "metadata": {},
   "outputs": [
    {
     "name": "stderr",
     "output_type": "stream",
     "text": [
      "Creating Boxes from masks: 10it [00:00, 55.19it/s]\n"
     ]
    }
   ],
   "source": [
    "from infer_bounding_boxes import infer_all_bboxes\n",
    "from config import DATA_DIR\n",
    "from tools import return_files_in_directory\n",
    "BB_BOX_DIR = DATA_DIR + \"/testing/bb_mask\"\n",
    "MASK_DIR = DATA_DIR + \"/testing/mask\"\n",
    "infer_all_bboxes(MASK_DIR, BB_BOX_DIR)"
   ]
  },
  {
   "cell_type": "code",
   "execution_count": 5,
   "metadata": {},
   "outputs": [
    {
     "ename": "FileNotFoundError",
     "evalue": "[Errno 2] No such file or directory: '/mask/10.tif'",
     "output_type": "error",
     "traceback": [
      "\u001b[0;31m---------------------------------------------------------------------------\u001b[0m",
      "\u001b[0;31mFileNotFoundError\u001b[0m                         Traceback (most recent call last)",
      "\u001b[1;32m/Users/michaelgroeger/workspace/boxshrink/generate_bounding_box.ipynb Cell 2\u001b[0m in \u001b[0;36m<cell line: 7>\u001b[0;34m()\u001b[0m\n\u001b[1;32m      <a href='vscode-notebook-cell:/Users/michaelgroeger/workspace/boxshrink/generate_bounding_box.ipynb#W1sZmlsZQ%3D%3D?line=3'>4</a>\u001b[0m \u001b[39mfrom\u001b[39;00m \u001b[39mtools\u001b[39;00m \u001b[39mimport\u001b[39;00m visualize\n\u001b[1;32m      <a href='vscode-notebook-cell:/Users/michaelgroeger/workspace/boxshrink/generate_bounding_box.ipynb#W1sZmlsZQ%3D%3D?line=4'>5</a>\u001b[0m idx \u001b[39m=\u001b[39m \u001b[39m10\u001b[39m\n\u001b[0;32m----> <a href='vscode-notebook-cell:/Users/michaelgroeger/workspace/boxshrink/generate_bounding_box.ipynb#W1sZmlsZQ%3D%3D?line=6'>7</a>\u001b[0m gt_mask \u001b[39m=\u001b[39m ToTensor()(Image\u001b[39m.\u001b[39;49mopen(os\u001b[39m.\u001b[39;49mpath\u001b[39m.\u001b[39;49mjoin(MASK_DIR, \u001b[39mf\u001b[39;49m\u001b[39m\"\u001b[39;49m\u001b[39m/mask/\u001b[39;49m\u001b[39m{\u001b[39;49;00midx\u001b[39m}\u001b[39;49;00m\u001b[39m.tif\u001b[39;49m\u001b[39m\"\u001b[39;49m)))\n\u001b[1;32m      <a href='vscode-notebook-cell:/Users/michaelgroeger/workspace/boxshrink/generate_bounding_box.ipynb#W1sZmlsZQ%3D%3D?line=7'>8</a>\u001b[0m bb_mask \u001b[39m=\u001b[39m ToTensor()(Image\u001b[39m.\u001b[39mopen(os\u001b[39m.\u001b[39mpath\u001b[39m.\u001b[39mjoin(BB_BOX_DIR, \u001b[39mf\u001b[39m\u001b[39m\"\u001b[39m\u001b[39m/Users/michaelgroeger/workspace/FEA_Internship/publication/boxshrink/data/testing/bb_mask/\u001b[39m\u001b[39m{\u001b[39;00midx\u001b[39m}\u001b[39;00m\u001b[39m.png\u001b[39m\u001b[39m\"\u001b[39m)))\n\u001b[1;32m      <a href='vscode-notebook-cell:/Users/michaelgroeger/workspace/boxshrink/generate_bounding_box.ipynb#W1sZmlsZQ%3D%3D?line=8'>9</a>\u001b[0m visualize(img\u001b[39m=\u001b[39mgt_mask\u001b[39m.\u001b[39mpermute(\u001b[39m1\u001b[39m,\u001b[39m2\u001b[39m,\u001b[39m0\u001b[39m), bb_mask\u001b[39m=\u001b[39mbb_mask\u001b[39m.\u001b[39mpermute(\u001b[39m1\u001b[39m,\u001b[39m2\u001b[39m,\u001b[39m0\u001b[39m))\n",
      "File \u001b[0;32m~/miniconda3/envs/boxshrink/lib/python3.8/site-packages/PIL/Image.py:3092\u001b[0m, in \u001b[0;36mopen\u001b[0;34m(fp, mode, formats)\u001b[0m\n\u001b[1;32m   3089\u001b[0m     filename \u001b[39m=\u001b[39m fp\n\u001b[1;32m   3091\u001b[0m \u001b[39mif\u001b[39;00m filename:\n\u001b[0;32m-> 3092\u001b[0m     fp \u001b[39m=\u001b[39m builtins\u001b[39m.\u001b[39;49mopen(filename, \u001b[39m\"\u001b[39;49m\u001b[39mrb\u001b[39;49m\u001b[39m\"\u001b[39;49m)\n\u001b[1;32m   3093\u001b[0m     exclusive_fp \u001b[39m=\u001b[39m \u001b[39mTrue\u001b[39;00m\n\u001b[1;32m   3095\u001b[0m \u001b[39mtry\u001b[39;00m:\n",
      "\u001b[0;31mFileNotFoundError\u001b[0m: [Errno 2] No such file or directory: '/mask/10.tif'"
     ]
    }
   ],
   "source": [
    "from PIL import Image\n",
    "import os\n",
    "from torchvision.transforms import ToTensor\n",
    "from tools import visualize\n",
    "idx = 10\n",
    "\n",
    "gt_mask = ToTensor()(Image.open(os.path.join(MASK_DIR, f\"{idx}.tif\")))\n",
    "bb_mask = ToTensor()(Image.open(os.path.join(BB_BOX_DIR, f\"{idx}.png\")))\n",
    "visualize(img=gt_mask.permute(1,2,0), bb_mask=bb_mask.permute(1,2,0))"
   ]
  }
 ],
 "metadata": {
  "kernelspec": {
   "display_name": "Python 3.8.13 ('boxshrink')",
   "language": "python",
   "name": "python3"
  },
  "language_info": {
   "codemirror_mode": {
    "name": "ipython",
    "version": 3
   },
   "file_extension": ".py",
   "mimetype": "text/x-python",
   "name": "python",
   "nbconvert_exporter": "python",
   "pygments_lexer": "ipython3",
   "version": "3.8.13"
  },
  "orig_nbformat": 4,
  "vscode": {
   "interpreter": {
    "hash": "3e03cce523887ef4ae3cc71c66ab4ee9a46035781549cd05776eda36e5299632"
   }
  }
 },
 "nbformat": 4,
 "nbformat_minor": 2
}
