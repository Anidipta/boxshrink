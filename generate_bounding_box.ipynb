{
 "cells": [
  {
   "cell_type": "code",
   "execution_count": null,
   "metadata": {},
   "outputs": [],
   "source": [
    "from infer_bounding_boxes import infer_all_bboxes\n",
    "from config import DATA_DIR\n",
    "from tools import return_files_in_directory\n",
    "BB_BOX_DIR = DATA_DIR + \"/testing/bb_mask\"\n",
    "MASK_DIR = DATA_DIR + \"/testing/mask\"\n",
    "infer_all_bboxes(MASK_DIR, BB_BOX_DIR)"
   ]
  },
  {
   "cell_type": "code",
   "execution_count": null,
   "metadata": {},
   "outputs": [],
   "source": [
    "from PIL import Image\n",
    "import os\n",
    "from torchvision.transforms import ToTensor\n",
    "from tools import visualize\n",
    "idx = 10\n",
    "\n",
    "gt_mask = ToTensor()(Image.open(os.path.join(MASK_DIR, f\"{idx}.tif\")))\n",
    "bb_mask = ToTensor()(Image.open(os.path.join(BB_BOX_DIR, f\"{idx}.png\")))\n",
    "print(bb_mask.shape)\n",
    "print(gt_mask.shape)\n",
    "visualize(img=gt_mask.permute(1,2,0), bb_mask=bb_mask.permute(1,2,0))"
   ]
  },
  {
   "cell_type": "code",
   "execution_count": null,
   "metadata": {},
   "outputs": [],
   "source": []
  }
 ],
 "metadata": {
  "kernelspec": {
   "display_name": "Python 3.8.13 ('boxshrink')",
   "language": "python",
   "name": "python3"
  },
  "language_info": {
   "codemirror_mode": {
    "name": "ipython",
    "version": 3
   },
   "file_extension": ".py",
   "mimetype": "text/x-python",
   "name": "python",
   "nbconvert_exporter": "python",
   "pygments_lexer": "ipython3",
   "version": "3.10.8"
  },
  "orig_nbformat": 4,
  "vscode": {
   "interpreter": {
    "hash": "3e03cce523887ef4ae3cc71c66ab4ee9a46035781549cd05776eda36e5299632"
   }
  }
 },
 "nbformat": 4,
 "nbformat_minor": 2
}
