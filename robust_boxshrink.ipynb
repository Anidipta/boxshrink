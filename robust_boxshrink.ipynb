{
 "cells": [
  {
   "cell_type": "code",
   "execution_count": 1,
   "metadata": {},
   "outputs": [
    {
     "name": "stderr",
     "output_type": "stream",
     "text": [
      "/Users/michaelgroeger/miniconda3/envs/boxshrink/lib/python3.8/site-packages/tqdm/auto.py:22: TqdmWarning: IProgress not found. Please update jupyter and ipywidgets. See https://ipywidgets.readthedocs.io/en/stable/user_install.html\n",
      "  from .autonotebook import tqdm as notebook_tqdm\n"
     ]
    }
   ],
   "source": [
    "from superpixels import export_superpixel_crf_masks_for_dataset\n",
    "from dataset import Colonoscopy_Dataset\n",
    "from tools import (\n",
    "    return_files_in_directory,\n",
    "    human_sort,\n",
    "    overlay_mask_on_image\n",
    "    )\n",
    "from crf import pass_pseudomask_or_ground_truth\n",
    "from crf import crf\n",
    "from config import *\n",
    "import os\n",
    "from embeddings import ResnetFeatureExtractor, generate_embedding_masks_for_dataset\n",
    "from sklearn.model_selection import train_test_split\n",
    "from torch.utils.data import DataLoader, Subset\n",
    "import torchvision\n",
    "from tqdm import tqdm\n",
    "from tools import visualize\n",
    "from embeddings import get_mean_embeddings\n",
    "import numpy as np\n",
    "import matplotlib.pyplot as plt\n",
    "from skimage.segmentation import mark_boundaries, slic\n",
    "import numpy as np\n",
    "\n",
    "import time\n",
    "from embeddings import create_embedding_mask\n",
    "from crf import pass_pseudomask_or_ground_truth\n",
    "from embeddings import ResnetFeatureExtractor"
   ]
  },
  {
   "cell_type": "code",
   "execution_count": 4,
   "metadata": {},
   "outputs": [],
   "source": [
    "image_files = return_files_in_directory(DATA_DIR + \"/original\", \".tif\")\n",
    "box_files = return_files_in_directory(DATA_DIR + \"/boxmasks\", \".png\")\n",
    "# Ensure files are in correct order\n",
    "human_sort(image_files)\n",
    "human_sort(box_files)\n",
    "X_train, X_test, y_train, y_test = train_test_split(image_files, box_files, test_size=0.1, random_state=1)\n",
    "X_train, X_val, y_train, y_val = train_test_split(X_train, y_train, test_size=0.11111, random_state=1) # 0.1111 x 0.9 = 0.1\n",
    "\n",
    "dataset = Colonoscopy_Dataset(X_train[:5], y_train[:5])\n",
    "data_loader = DataLoader(dataset, batch_size=64, shuffle=False, num_workers=0)\n",
    "\n",
    "TESTING_DIR = DATA_DIR + \"/testing/robust_boxshrink\"\n",
    "EMBEDDING_DIR = DATA_DIR + \"/testing/mean_embeddings/\"\n",
    "if not os.path.exists(TESTING_DIR):\n",
    "    os.makedirs(TESTING_DIR)\n",
    "\n",
    "if not os.path.exists(EMBEDDING_DIR):\n",
    "    os.makedirs(EMBEDDING_DIR)"
   ]
  },
  {
   "cell_type": "code",
   "execution_count": 5,
   "metadata": {},
   "outputs": [],
   "source": [
    "## Get mean embeddings\n",
    "f = torch.load(EMBEDDING_DIR + \"foreground_embeddings_ns250_th01_sp_crf_masks.pt\")\n",
    "b = torch.load(EMBEDDING_DIR + \"background_embeddings_ns250_th01_sp_crf_masks.pt\")\n",
    "mean_f = torch.mean(f, dim=0)\n",
    "mean_b = torch.mean(b, dim=0)"
   ]
  },
  {
   "cell_type": "code",
   "execution_count": 7,
   "metadata": {},
   "outputs": [
    {
     "name": "stderr",
     "output_type": "stream",
     "text": [
      "Generating Embedding Masks:   0%|          | 0/8 [00:35<?, ?batch/s]\n"
     ]
    },
    {
     "ename": "KeyboardInterrupt",
     "evalue": "",
     "output_type": "error",
     "traceback": [
      "\u001b[0;31m---------------------------------------------------------------------------\u001b[0m",
      "\u001b[0;31mKeyboardInterrupt\u001b[0m                         Traceback (most recent call last)",
      "\u001b[1;32m/Users/michaelgroeger/workspace/FEA_Internship/publication/boxshrink/robust_boxshrink.ipynb Cell 4\u001b[0m in \u001b[0;36m<cell line: 6>\u001b[0;34m()\u001b[0m\n\u001b[1;32m      <a href='vscode-notebook-cell:/Users/michaelgroeger/workspace/FEA_Internship/publication/boxshrink/robust_boxshrink.ipynb#W3sZmlsZQ%3D%3D?line=2'>3</a>\u001b[0m feature_extract_model \u001b[39m=\u001b[39m ResnetFeatureExtractor(resnet)\n\u001b[1;32m      <a href='vscode-notebook-cell:/Users/michaelgroeger/workspace/FEA_Internship/publication/boxshrink/robust_boxshrink.ipynb#W3sZmlsZQ%3D%3D?line=4'>5</a>\u001b[0m feature_extract_model\u001b[39m.\u001b[39mto(DEVICE)\n\u001b[0;32m----> <a href='vscode-notebook-cell:/Users/michaelgroeger/workspace/FEA_Internship/publication/boxshrink/robust_boxshrink.ipynb#W3sZmlsZQ%3D%3D?line=5'>6</a>\u001b[0m res \u001b[39m=\u001b[39m generate_embedding_masks_for_dataset(dataset, \u001b[39m'\u001b[39;49m\u001b[39m/Users/michaelgroeger/workspace/FEA_Internship/publication/boxshrink/data/testing/robust_boxshrink\u001b[39;49m\u001b[39m'\u001b[39;49m, feature_extract_model, mean_f, mean_b, save_as_png\u001b[39m=\u001b[39;49m\u001b[39mTrue\u001b[39;49;00m)\n",
      "File \u001b[0;32m~/workspace/FEA_Internship/publication/boxshrink/scripts/embeddings.py:370\u001b[0m, in \u001b[0;36mgenerate_embedding_masks_for_dataset\u001b[0;34m(dataset, export_path, model, mean_foreground_embedding, mean_background_embedding, save_as_png)\u001b[0m\n\u001b[1;32m    368\u001b[0m \u001b[39mfor\u001b[39;00m idx \u001b[39min\u001b[39;00m \u001b[39mrange\u001b[39m(train_labels\u001b[39m.\u001b[39mshape[\u001b[39m0\u001b[39m]):\n\u001b[1;32m    369\u001b[0m     mask_name \u001b[39m=\u001b[39m dataset\u001b[39m.\u001b[39mX[filecounter]\n\u001b[0;32m--> 370\u001b[0m     pseudomask \u001b[39m=\u001b[39m get_embedding_mask_or_box(\n\u001b[1;32m    371\u001b[0m         train_inputs[idx],\n\u001b[1;32m    372\u001b[0m         train_labels[idx],\n\u001b[1;32m    373\u001b[0m         train_org_images[idx],\n\u001b[1;32m    374\u001b[0m         model,\n\u001b[1;32m    375\u001b[0m         mean_foreground_embedding,\n\u001b[1;32m    376\u001b[0m         mean_background_embedding,\n\u001b[1;32m    377\u001b[0m     )\n\u001b[1;32m    378\u001b[0m     \u001b[39mif\u001b[39;00m save_as_png \u001b[39m==\u001b[39m \u001b[39mTrue\u001b[39;00m:\n\u001b[1;32m    379\u001b[0m         output_path_mask \u001b[39m=\u001b[39m (\n\u001b[1;32m    380\u001b[0m             export_path \u001b[39m+\u001b[39m \u001b[39m\"\u001b[39m\u001b[39m/\u001b[39m\u001b[39m\"\u001b[39m \u001b[39m+\u001b[39m mask_name\u001b[39m.\u001b[39msplit(\u001b[39m\"\u001b[39m\u001b[39m/\u001b[39m\u001b[39m\"\u001b[39m)[\u001b[39m-\u001b[39m\u001b[39m1\u001b[39m]\n\u001b[1;32m    381\u001b[0m         )\u001b[39m.\u001b[39mreplace(\u001b[39m\"\u001b[39m\u001b[39mtif\u001b[39m\u001b[39m\"\u001b[39m, \u001b[39m\"\u001b[39m\u001b[39mpng\u001b[39m\u001b[39m\"\u001b[39m)\n",
      "File \u001b[0;32m~/workspace/FEA_Internship/publication/boxshrink/scripts/embeddings.py:332\u001b[0m, in \u001b[0;36mget_embedding_mask_or_box\u001b[0;34m(train_input, train_label, train_org_image, model, mean_foreground_embedding, mean_background_embedding, iou_threshold, mask_occupancy_threshold, n_segments, threshold_embedding, threshold_closeness, iter, device)\u001b[0m\n\u001b[1;32m    317\u001b[0m \u001b[39mdef\u001b[39;00m \u001b[39mget_embedding_mask_or_box\u001b[39m(\n\u001b[1;32m    318\u001b[0m     train_input,\n\u001b[1;32m    319\u001b[0m     train_label,\n\u001b[0;32m   (...)\u001b[0m\n\u001b[1;32m    330\u001b[0m     device\u001b[39m=\u001b[39mDEVICE,\n\u001b[1;32m    331\u001b[0m ):\n\u001b[0;32m--> 332\u001b[0m     embedding_mask, _, _, _ \u001b[39m=\u001b[39m create_embedding_mask(\n\u001b[1;32m    333\u001b[0m         train_label,\n\u001b[1;32m    334\u001b[0m         train_org_image,\n\u001b[1;32m    335\u001b[0m         train_input,\n\u001b[1;32m    336\u001b[0m         N_SEGMENTS\u001b[39m=\u001b[39;49mn_segments,\n\u001b[1;32m    337\u001b[0m         threshold_embedding\u001b[39m=\u001b[39;49mthreshold_embedding,\n\u001b[1;32m    338\u001b[0m         \u001b[39miter\u001b[39;49m\u001b[39m=\u001b[39;49m\u001b[39miter\u001b[39;49m,\n\u001b[1;32m    339\u001b[0m         threshold_closeness\u001b[39m=\u001b[39;49mthreshold_closeness,\n\u001b[1;32m    340\u001b[0m         model\u001b[39m=\u001b[39;49mmodel,\n\u001b[1;32m    341\u001b[0m         mean_foreground_embedding\u001b[39m=\u001b[39;49mmean_foreground_embedding,\n\u001b[1;32m    342\u001b[0m         mean_background_embedding\u001b[39m=\u001b[39;49mmean_background_embedding,\n\u001b[1;32m    343\u001b[0m     )\n\u001b[1;32m    344\u001b[0m     \u001b[39mreturn\u001b[39;00m pass_pseudomask_or_ground_truth(\n\u001b[1;32m    345\u001b[0m         train_label\u001b[39m.\u001b[39mto(device),\n\u001b[1;32m    346\u001b[0m         embedding_mask\u001b[39m.\u001b[39mto(device),\n\u001b[1;32m    347\u001b[0m         iou_threshold\u001b[39m=\u001b[39miou_threshold,\n\u001b[1;32m    348\u001b[0m         mask_occupancy_threshold\u001b[39m=\u001b[39mmask_occupancy_threshold,\n\u001b[1;32m    349\u001b[0m     )\n",
      "File \u001b[0;32m~/workspace/FEA_Internship/publication/boxshrink/scripts/embeddings.py:245\u001b[0m, in \u001b[0;36mcreate_embedding_mask\u001b[0;34m(train_label, train_org_image, train_input, N_SEGMENTS, mean_foreground_embedding, mean_background_embedding, model, threshold_embedding, threshold_closeness, cosine_function, get_foreground_background_embeddings_function, scan_outer_pixels, scan_outer_superpixels_function, postprocess_crf, iter)\u001b[0m\n\u001b[1;32m    223\u001b[0m \u001b[39mdef\u001b[39;00m \u001b[39mcreate_embedding_mask\u001b[39m(\n\u001b[1;32m    224\u001b[0m     train_label,\n\u001b[1;32m    225\u001b[0m     train_org_image,\n\u001b[0;32m   (...)\u001b[0m\n\u001b[1;32m    238\u001b[0m     \u001b[39miter\u001b[39m\u001b[39m=\u001b[39m\u001b[39m1\u001b[39m,\n\u001b[1;32m    239\u001b[0m ):\n\u001b[1;32m    240\u001b[0m     (\n\u001b[1;32m    241\u001b[0m         foreground_embeddings,\n\u001b[1;32m    242\u001b[0m         _,\n\u001b[1;32m    243\u001b[0m         relevant_superpixels,\n\u001b[1;32m    244\u001b[0m         all_superpixels_mask,\n\u001b[0;32m--> 245\u001b[0m     ) \u001b[39m=\u001b[39m get_foreground_background_embeddings_function(\n\u001b[1;32m    246\u001b[0m         train_label,\n\u001b[1;32m    247\u001b[0m         train_org_image,\n\u001b[1;32m    248\u001b[0m         train_input,\n\u001b[1;32m    249\u001b[0m         N_SEGMENTS\u001b[39m=\u001b[39;49mN_SEGMENTS,\n\u001b[1;32m    250\u001b[0m         threshold\u001b[39m=\u001b[39;49mthreshold_embedding,\n\u001b[1;32m    251\u001b[0m         model\u001b[39m=\u001b[39;49mmodel,\n\u001b[1;32m    252\u001b[0m     )\n\u001b[1;32m    253\u001b[0m     \u001b[39mfor\u001b[39;00m i \u001b[39min\u001b[39;00m \u001b[39mrange\u001b[39m(\u001b[39m0\u001b[39m, \u001b[39miter\u001b[39m, \u001b[39m1\u001b[39m):\n\u001b[1;32m    254\u001b[0m         not_in_relevant_superpixels \u001b[39m=\u001b[39m [\n\u001b[1;32m    255\u001b[0m             i\n\u001b[1;32m    256\u001b[0m             \u001b[39mfor\u001b[39;00m i \u001b[39min\u001b[39;00m torch\u001b[39m.\u001b[39munique(all_superpixels_mask)\n\u001b[1;32m    257\u001b[0m             \u001b[39mif\u001b[39;00m i \u001b[39mnot\u001b[39;00m \u001b[39min\u001b[39;00m relevant_superpixels\n\u001b[1;32m    258\u001b[0m         ]\n",
      "File \u001b[0;32m~/workspace/FEA_Internship/publication/boxshrink/scripts/embeddings.py:100\u001b[0m, in \u001b[0;36mget_foreground_background_embeddings\u001b[0;34m(argmax_prediction_per_class, org_img, train_input, threshold, N_SEGMENTS, model, class_indx, compactness, sigma, start_label, device)\u001b[0m\n\u001b[1;32m     98\u001b[0m     cut \u001b[39m=\u001b[39m base_aspm[:, s[\u001b[39m1\u001b[39m] : l[\u001b[39m1\u001b[39m], s[\u001b[39m0\u001b[39m] : l[\u001b[39m0\u001b[39m]]\u001b[39m.\u001b[39munsqueeze(\u001b[39m0\u001b[39m)\u001b[39m.\u001b[39mto(device)\n\u001b[1;32m     99\u001b[0m     \u001b[39mwith\u001b[39;00m torch\u001b[39m.\u001b[39mno_grad():\n\u001b[0;32m--> 100\u001b[0m         feat_foreground_sp \u001b[39m=\u001b[39m model(cut)\n\u001b[1;32m    101\u001b[0m         foreground_embeddings[i, :] \u001b[39m=\u001b[39m feat_foreground_sp\n\u001b[1;32m    102\u001b[0m \u001b[39mfor\u001b[39;00m i, superpixel \u001b[39min\u001b[39;00m \u001b[39menumerate\u001b[39m(background_superpixels):\n",
      "File \u001b[0;32m~/workspace/FEA_Internship/publication/boxshrink/scripts/embeddings.py:20\u001b[0m, in \u001b[0;36mResnetFeatureExtractor.__call__\u001b[0;34m(self, x)\u001b[0m\n\u001b[1;32m     19\u001b[0m \u001b[39mdef\u001b[39;00m \u001b[39m__call__\u001b[39m(\u001b[39mself\u001b[39m, x):\n\u001b[0;32m---> 20\u001b[0m     \u001b[39mreturn\u001b[39;00m \u001b[39mself\u001b[39;49m\u001b[39m.\u001b[39;49mfeature_extractor(x)[:, :, \u001b[39m0\u001b[39m, \u001b[39m0\u001b[39m]\n",
      "File \u001b[0;32m~/miniconda3/envs/boxshrink/lib/python3.8/site-packages/torch/nn/modules/module.py:1130\u001b[0m, in \u001b[0;36mModule._call_impl\u001b[0;34m(self, *input, **kwargs)\u001b[0m\n\u001b[1;32m   1126\u001b[0m \u001b[39m# If we don't have any hooks, we want to skip the rest of the logic in\u001b[39;00m\n\u001b[1;32m   1127\u001b[0m \u001b[39m# this function, and just call forward.\u001b[39;00m\n\u001b[1;32m   1128\u001b[0m \u001b[39mif\u001b[39;00m \u001b[39mnot\u001b[39;00m (\u001b[39mself\u001b[39m\u001b[39m.\u001b[39m_backward_hooks \u001b[39mor\u001b[39;00m \u001b[39mself\u001b[39m\u001b[39m.\u001b[39m_forward_hooks \u001b[39mor\u001b[39;00m \u001b[39mself\u001b[39m\u001b[39m.\u001b[39m_forward_pre_hooks \u001b[39mor\u001b[39;00m _global_backward_hooks\n\u001b[1;32m   1129\u001b[0m         \u001b[39mor\u001b[39;00m _global_forward_hooks \u001b[39mor\u001b[39;00m _global_forward_pre_hooks):\n\u001b[0;32m-> 1130\u001b[0m     \u001b[39mreturn\u001b[39;00m forward_call(\u001b[39m*\u001b[39;49m\u001b[39minput\u001b[39;49m, \u001b[39m*\u001b[39;49m\u001b[39m*\u001b[39;49mkwargs)\n\u001b[1;32m   1131\u001b[0m \u001b[39m# Do not call functions when jit is used\u001b[39;00m\n\u001b[1;32m   1132\u001b[0m full_backward_hooks, non_full_backward_hooks \u001b[39m=\u001b[39m [], []\n",
      "File \u001b[0;32m~/miniconda3/envs/boxshrink/lib/python3.8/site-packages/torch/nn/modules/container.py:139\u001b[0m, in \u001b[0;36mSequential.forward\u001b[0;34m(self, input)\u001b[0m\n\u001b[1;32m    137\u001b[0m \u001b[39mdef\u001b[39;00m \u001b[39mforward\u001b[39m(\u001b[39mself\u001b[39m, \u001b[39minput\u001b[39m):\n\u001b[1;32m    138\u001b[0m     \u001b[39mfor\u001b[39;00m module \u001b[39min\u001b[39;00m \u001b[39mself\u001b[39m:\n\u001b[0;32m--> 139\u001b[0m         \u001b[39minput\u001b[39m \u001b[39m=\u001b[39m module(\u001b[39minput\u001b[39;49m)\n\u001b[1;32m    140\u001b[0m     \u001b[39mreturn\u001b[39;00m \u001b[39minput\u001b[39m\n",
      "File \u001b[0;32m~/miniconda3/envs/boxshrink/lib/python3.8/site-packages/torch/nn/modules/module.py:1130\u001b[0m, in \u001b[0;36mModule._call_impl\u001b[0;34m(self, *input, **kwargs)\u001b[0m\n\u001b[1;32m   1126\u001b[0m \u001b[39m# If we don't have any hooks, we want to skip the rest of the logic in\u001b[39;00m\n\u001b[1;32m   1127\u001b[0m \u001b[39m# this function, and just call forward.\u001b[39;00m\n\u001b[1;32m   1128\u001b[0m \u001b[39mif\u001b[39;00m \u001b[39mnot\u001b[39;00m (\u001b[39mself\u001b[39m\u001b[39m.\u001b[39m_backward_hooks \u001b[39mor\u001b[39;00m \u001b[39mself\u001b[39m\u001b[39m.\u001b[39m_forward_hooks \u001b[39mor\u001b[39;00m \u001b[39mself\u001b[39m\u001b[39m.\u001b[39m_forward_pre_hooks \u001b[39mor\u001b[39;00m _global_backward_hooks\n\u001b[1;32m   1129\u001b[0m         \u001b[39mor\u001b[39;00m _global_forward_hooks \u001b[39mor\u001b[39;00m _global_forward_pre_hooks):\n\u001b[0;32m-> 1130\u001b[0m     \u001b[39mreturn\u001b[39;00m forward_call(\u001b[39m*\u001b[39;49m\u001b[39minput\u001b[39;49m, \u001b[39m*\u001b[39;49m\u001b[39m*\u001b[39;49mkwargs)\n\u001b[1;32m   1131\u001b[0m \u001b[39m# Do not call functions when jit is used\u001b[39;00m\n\u001b[1;32m   1132\u001b[0m full_backward_hooks, non_full_backward_hooks \u001b[39m=\u001b[39m [], []\n",
      "File \u001b[0;32m~/miniconda3/envs/boxshrink/lib/python3.8/site-packages/torch/nn/modules/container.py:139\u001b[0m, in \u001b[0;36mSequential.forward\u001b[0;34m(self, input)\u001b[0m\n\u001b[1;32m    137\u001b[0m \u001b[39mdef\u001b[39;00m \u001b[39mforward\u001b[39m(\u001b[39mself\u001b[39m, \u001b[39minput\u001b[39m):\n\u001b[1;32m    138\u001b[0m     \u001b[39mfor\u001b[39;00m module \u001b[39min\u001b[39;00m \u001b[39mself\u001b[39m:\n\u001b[0;32m--> 139\u001b[0m         \u001b[39minput\u001b[39m \u001b[39m=\u001b[39m module(\u001b[39minput\u001b[39;49m)\n\u001b[1;32m    140\u001b[0m     \u001b[39mreturn\u001b[39;00m \u001b[39minput\u001b[39m\n",
      "File \u001b[0;32m~/miniconda3/envs/boxshrink/lib/python3.8/site-packages/torch/nn/modules/module.py:1130\u001b[0m, in \u001b[0;36mModule._call_impl\u001b[0;34m(self, *input, **kwargs)\u001b[0m\n\u001b[1;32m   1126\u001b[0m \u001b[39m# If we don't have any hooks, we want to skip the rest of the logic in\u001b[39;00m\n\u001b[1;32m   1127\u001b[0m \u001b[39m# this function, and just call forward.\u001b[39;00m\n\u001b[1;32m   1128\u001b[0m \u001b[39mif\u001b[39;00m \u001b[39mnot\u001b[39;00m (\u001b[39mself\u001b[39m\u001b[39m.\u001b[39m_backward_hooks \u001b[39mor\u001b[39;00m \u001b[39mself\u001b[39m\u001b[39m.\u001b[39m_forward_hooks \u001b[39mor\u001b[39;00m \u001b[39mself\u001b[39m\u001b[39m.\u001b[39m_forward_pre_hooks \u001b[39mor\u001b[39;00m _global_backward_hooks\n\u001b[1;32m   1129\u001b[0m         \u001b[39mor\u001b[39;00m _global_forward_hooks \u001b[39mor\u001b[39;00m _global_forward_pre_hooks):\n\u001b[0;32m-> 1130\u001b[0m     \u001b[39mreturn\u001b[39;00m forward_call(\u001b[39m*\u001b[39;49m\u001b[39minput\u001b[39;49m, \u001b[39m*\u001b[39;49m\u001b[39m*\u001b[39;49mkwargs)\n\u001b[1;32m   1131\u001b[0m \u001b[39m# Do not call functions when jit is used\u001b[39;00m\n\u001b[1;32m   1132\u001b[0m full_backward_hooks, non_full_backward_hooks \u001b[39m=\u001b[39m [], []\n",
      "File \u001b[0;32m~/miniconda3/envs/boxshrink/lib/python3.8/site-packages/torchvision/models/resnet.py:157\u001b[0m, in \u001b[0;36mBottleneck.forward\u001b[0;34m(self, x)\u001b[0m\n\u001b[1;32m    154\u001b[0m out \u001b[39m=\u001b[39m \u001b[39mself\u001b[39m\u001b[39m.\u001b[39mconv3(out)\n\u001b[1;32m    155\u001b[0m out \u001b[39m=\u001b[39m \u001b[39mself\u001b[39m\u001b[39m.\u001b[39mbn3(out)\n\u001b[0;32m--> 157\u001b[0m \u001b[39mif\u001b[39;00m \u001b[39mself\u001b[39;49m\u001b[39m.\u001b[39;49mdownsample \u001b[39mis\u001b[39;00m \u001b[39mnot\u001b[39;00m \u001b[39mNone\u001b[39;00m:\n\u001b[1;32m    158\u001b[0m     identity \u001b[39m=\u001b[39m \u001b[39mself\u001b[39m\u001b[39m.\u001b[39mdownsample(x)\n\u001b[1;32m    160\u001b[0m out \u001b[39m+\u001b[39m\u001b[39m=\u001b[39m identity\n",
      "File \u001b[0;32m~/miniconda3/envs/boxshrink/lib/python3.8/site-packages/torch/nn/modules/module.py:1194\u001b[0m, in \u001b[0;36mModule.__getattr__\u001b[0;34m(self, name)\u001b[0m\n\u001b[1;32m   1191\u001b[0m     \u001b[39mif\u001b[39;00m \u001b[39m'\u001b[39m\u001b[39m_is_full_backward_hook\u001b[39m\u001b[39m'\u001b[39m \u001b[39mnot\u001b[39;00m \u001b[39min\u001b[39;00m \u001b[39mself\u001b[39m\u001b[39m.\u001b[39m\u001b[39m__dict__\u001b[39m:\n\u001b[1;32m   1192\u001b[0m         \u001b[39mself\u001b[39m\u001b[39m.\u001b[39m_is_full_backward_hook \u001b[39m=\u001b[39m \u001b[39mNone\u001b[39;00m\n\u001b[0;32m-> 1194\u001b[0m \u001b[39mdef\u001b[39;00m \u001b[39m__getattr__\u001b[39m(\u001b[39mself\u001b[39m, name: \u001b[39mstr\u001b[39m) \u001b[39m-\u001b[39m\u001b[39m>\u001b[39m Union[Tensor, \u001b[39m'\u001b[39m\u001b[39mModule\u001b[39m\u001b[39m'\u001b[39m]:\n\u001b[1;32m   1195\u001b[0m     \u001b[39mif\u001b[39;00m \u001b[39m'\u001b[39m\u001b[39m_parameters\u001b[39m\u001b[39m'\u001b[39m \u001b[39min\u001b[39;00m \u001b[39mself\u001b[39m\u001b[39m.\u001b[39m\u001b[39m__dict__\u001b[39m:\n\u001b[1;32m   1196\u001b[0m         _parameters \u001b[39m=\u001b[39m \u001b[39mself\u001b[39m\u001b[39m.\u001b[39m\u001b[39m__dict__\u001b[39m[\u001b[39m'\u001b[39m\u001b[39m_parameters\u001b[39m\u001b[39m'\u001b[39m]\n",
      "\u001b[0;31mKeyboardInterrupt\u001b[0m: "
     ]
    }
   ],
   "source": [
    "resnet = torchvision.models.resnet50(weights=\"ResNet50_Weights.IMAGENET1K_V2\")\n",
    "resnet.eval()\n",
    "feature_extract_model = ResnetFeatureExtractor(resnet)\n",
    "\n",
    "feature_extract_model.to(DEVICE)\n",
    "res = generate_embedding_masks_for_dataset(dataset, '/Users/michaelgroeger/workspace/FEA_Internship/publication/boxshrink/tests/test_embedding_masks', feature_extract_model, mean_f, mean_b, save_as_png=False)"
   ]
  },
  {
   "cell_type": "code",
   "execution_count": null,
   "metadata": {},
   "outputs": [],
   "source": []
  }
 ],
 "metadata": {
  "kernelspec": {
   "display_name": "Python 3.8.13 ('boxshrink')",
   "language": "python",
   "name": "python3"
  },
  "language_info": {
   "codemirror_mode": {
    "name": "ipython",
    "version": 3
   },
   "file_extension": ".py",
   "mimetype": "text/x-python",
   "name": "python",
   "nbconvert_exporter": "python",
   "pygments_lexer": "ipython3",
   "version": "3.8.13"
  },
  "orig_nbformat": 4,
  "vscode": {
   "interpreter": {
    "hash": "3e03cce523887ef4ae3cc71c66ab4ee9a46035781549cd05776eda36e5299632"
   }
  }
 },
 "nbformat": 4,
 "nbformat_minor": 2
}
