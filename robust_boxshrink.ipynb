{
 "cells": [
  {
   "cell_type": "code",
   "execution_count": 1,
   "metadata": {},
   "outputs": [
    {
     "name": "stderr",
     "output_type": "stream",
     "text": [
      "/Users/michaelgroeger/miniconda3/envs/boxshrink/lib/python3.8/site-packages/tqdm/auto.py:22: TqdmWarning: IProgress not found. Please update jupyter and ipywidgets. See https://ipywidgets.readthedocs.io/en/stable/user_install.html\n",
      "  from .autonotebook import tqdm as notebook_tqdm\n"
     ]
    },
    {
     "ename": "ModuleNotFoundError",
     "evalue": "No module named 'scripts'",
     "output_type": "error",
     "traceback": [
      "\u001b[0;31m---------------------------------------------------------------------------\u001b[0m",
      "\u001b[0;31mModuleNotFoundError\u001b[0m                       Traceback (most recent call last)",
      "\u001b[1;32m/Users/michaelgroeger/workspace/FEA_Internship/publication/boxshrink/scripts/robust_boxshrink.ipynb Cell 1\u001b[0m in \u001b[0;36m<cell line: 1>\u001b[0;34m()\u001b[0m\n\u001b[0;32m----> <a href='vscode-notebook-cell:/Users/michaelgroeger/workspace/FEA_Internship/publication/boxshrink/scripts/robust_boxshrink.ipynb#W0sZmlsZQ%3D%3D?line=0'>1</a>\u001b[0m \u001b[39mfrom\u001b[39;00m \u001b[39msuperpixels\u001b[39;00m \u001b[39mimport\u001b[39;00m export_superpixel_crf_masks_for_dataset\n\u001b[1;32m      <a href='vscode-notebook-cell:/Users/michaelgroeger/workspace/FEA_Internship/publication/boxshrink/scripts/robust_boxshrink.ipynb#W0sZmlsZQ%3D%3D?line=1'>2</a>\u001b[0m \u001b[39mfrom\u001b[39;00m \u001b[39mdataset\u001b[39;00m \u001b[39mimport\u001b[39;00m Colonoscopy_Dataset\n\u001b[1;32m      <a href='vscode-notebook-cell:/Users/michaelgroeger/workspace/FEA_Internship/publication/boxshrink/scripts/robust_boxshrink.ipynb#W0sZmlsZQ%3D%3D?line=2'>3</a>\u001b[0m \u001b[39mfrom\u001b[39;00m \u001b[39mtools\u001b[39;00m \u001b[39mimport\u001b[39;00m (\n\u001b[1;32m      <a href='vscode-notebook-cell:/Users/michaelgroeger/workspace/FEA_Internship/publication/boxshrink/scripts/robust_boxshrink.ipynb#W0sZmlsZQ%3D%3D?line=3'>4</a>\u001b[0m     return_files_in_directory,\n\u001b[1;32m      <a href='vscode-notebook-cell:/Users/michaelgroeger/workspace/FEA_Internship/publication/boxshrink/scripts/robust_boxshrink.ipynb#W0sZmlsZQ%3D%3D?line=4'>5</a>\u001b[0m     human_sort,\n\u001b[1;32m      <a href='vscode-notebook-cell:/Users/michaelgroeger/workspace/FEA_Internship/publication/boxshrink/scripts/robust_boxshrink.ipynb#W0sZmlsZQ%3D%3D?line=5'>6</a>\u001b[0m     overlay_mask_on_image\n\u001b[1;32m      <a href='vscode-notebook-cell:/Users/michaelgroeger/workspace/FEA_Internship/publication/boxshrink/scripts/robust_boxshrink.ipynb#W0sZmlsZQ%3D%3D?line=6'>7</a>\u001b[0m     )\n",
      "File \u001b[0;32m~/workspace/FEA_Internship/publication/boxshrink/scripts/superpixels.py:9\u001b[0m, in \u001b[0;36m<module>\u001b[0;34m\u001b[0m\n\u001b[1;32m      6\u001b[0m \u001b[39mfrom\u001b[39;00m \u001b[39mtifffile\u001b[39;00m \u001b[39mimport\u001b[39;00m imread\n\u001b[1;32m      7\u001b[0m \u001b[39mfrom\u001b[39;00m \u001b[39mtqdm\u001b[39;00m \u001b[39mimport\u001b[39;00m tqdm\n\u001b[0;32m----> 9\u001b[0m \u001b[39mfrom\u001b[39;00m \u001b[39mscripts\u001b[39;00m\u001b[39m.\u001b[39;00m\u001b[39mconfig\u001b[39;00m \u001b[39mimport\u001b[39;00m DEVICE\n\u001b[1;32m     10\u001b[0m \u001b[39mfrom\u001b[39;00m \u001b[39mscripts\u001b[39;00m\u001b[39m.\u001b[39;00m\u001b[39mcrf\u001b[39;00m \u001b[39mimport\u001b[39;00m pass_pseudomask_or_ground_truth, process_batch_crf\n\u001b[1;32m     13\u001b[0m \u001b[39mdef\u001b[39;00m \u001b[39mcreate_superpixel_mask\u001b[39m(\n\u001b[1;32m     14\u001b[0m     argmax_prediction_per_class,\n\u001b[1;32m     15\u001b[0m     image,\n\u001b[0;32m   (...)\u001b[0m\n\u001b[1;32m     23\u001b[0m ):\n\u001b[1;32m     24\u001b[0m     \u001b[39m# get superpixels\u001b[39;00m\n",
      "\u001b[0;31mModuleNotFoundError\u001b[0m: No module named 'scripts'"
     ]
    }
   ],
   "source": [
    "from superpixels import export_superpixel_crf_masks_for_dataset\n",
    "from dataset import Colonoscopy_Dataset\n",
    "from tools import (\n",
    "    return_files_in_directory,\n",
    "    human_sort,\n",
    "    overlay_mask_on_image\n",
    "    )\n",
    "from crf import pass_pseudomask_or_ground_truth\n",
    "from crf import crf\n",
    "from config import *\n",
    "import os\n",
    "from embeddings import ResnetFeatureExtractor, generate_embedding_masks_for_dataset\n",
    "from sklearn.model_selection import train_test_split\n",
    "from torch.utils.data import DataLoader, Subset\n",
    "import torchvision\n",
    "from tqdm import tqdm\n",
    "from tools import visualize\n",
    "from embeddings import get_mean_embeddings\n",
    "import numpy as np\n",
    "import matplotlib.pyplot as plt\n",
    "from skimage.segmentation import mark_boundaries, slic\n",
    "import numpy as np\n",
    "\n",
    "import time\n",
    "from embeddings import create_embedding_mask\n",
    "from crf import pass_pseudomask_or_ground_truth\n",
    "from embeddings import ResnetFeatureExtractor"
   ]
  },
  {
   "cell_type": "code",
   "execution_count": null,
   "metadata": {},
   "outputs": [],
   "source": [
    "DATA_DIR = BASE_DIR + '/data'\n",
    "image_files = return_files_in_directory(DATA_DIR + \"/original\", \".tif\")\n",
    "box_files = return_files_in_directory(DATA_DIR + \"/boxmasks\", \".png\")\n",
    "# Ensure files are in correct order\n",
    "human_sort(image_files)\n",
    "human_sort(box_files)\n",
    "\n",
    "X_train, X_test, y_train, y_test = train_test_split(image_files, box_files, test_size=0.1, random_state=1)\n",
    "X_train, X_val, y_train, y_val = train_test_split(X_train, y_train, test_size=0.11111, random_state=1) # 0.1111 x 0.9 = 0.1\n",
    "\n",
    "dataset = Colonoscopy_Dataset(X_train, y_train)\n",
    "data_loader = DataLoader(dataset, batch_size=64, shuffle=False, num_workers=0)\n",
    "\n",
    "TESTING_DIR = DATA_DIR + \"/testing/robust_boxshrink\"\n",
    "EMBEDDING_DIR = DATA_DIR + \"/testing/mean_embeddings/\"\n",
    "if not os.path.exists(TESTING_DIR):\n",
    "    os.makedirs(TESTING_DIR)\n",
    "\n",
    "if not os.path.exists(EMBEDDING_DIR):\n",
    "    os.makedirs(EMBEDDING_DIR)"
   ]
  },
  {
   "cell_type": "code",
   "execution_count": null,
   "metadata": {},
   "outputs": [],
   "source": [
    "## Get mean embeddings\n",
    "f = torch.load(EMBEDDING_DIR + \"foreground_embeddings_ns250_th01_sp_crf_masks.pt\")\n",
    "b = torch.load(EMBEDDING_DIR + \"background_embeddings_ns250_th01_sp_crf_masks.pt\")\n",
    "mean_f = torch.mean(f, dim=0)\n",
    "mean_b = torch.mean(b, dim=0)"
   ]
  },
  {
   "cell_type": "code",
   "execution_count": null,
   "metadata": {},
   "outputs": [
    {
     "name": "stderr",
     "output_type": "stream",
     "text": [
      "Generating Embedding Masks: 100%|██████████| 1/1 [00:14<00:00, 14.71s/batch]"
     ]
    },
    {
     "name": "stdout",
     "output_type": "stream",
     "text": [
      "torch.Size([5, 288, 384])\n"
     ]
    },
    {
     "name": "stderr",
     "output_type": "stream",
     "text": [
      "\n"
     ]
    }
   ],
   "source": [
    "resnet = torchvision.models.resnet50(weights=\"ResNet50_Weights.IMAGENET1K_V2\")\n",
    "resnet.eval()\n",
    "feature_extract_model = ResnetFeatureExtractor(resnet)\n",
    "\n",
    "feature_extract_model.to(DEVICE)\n",
    "res = generate_embedding_masks_for_dataset(dataset, '/Users/michaelgroeger/workspace/FEA_Internship/publication/boxshrink/scripts/tests/test_embedding_masks', feature_extract_model, mean_f, mean_b, save_masks=False, return_masks=True)"
   ]
  }
 ],
 "metadata": {
  "kernelspec": {
   "display_name": "Python 3.8.13 ('boxshrink')",
   "language": "python",
   "name": "python3"
  },
  "language_info": {
   "codemirror_mode": {
    "name": "ipython",
    "version": 3
   },
   "file_extension": ".py",
   "mimetype": "text/x-python",
   "name": "python",
   "nbconvert_exporter": "python",
   "pygments_lexer": "ipython3",
   "version": "3.8.13"
  },
  "orig_nbformat": 4,
  "vscode": {
   "interpreter": {
    "hash": "3e03cce523887ef4ae3cc71c66ab4ee9a46035781549cd05776eda36e5299632"
   }
  }
 },
 "nbformat": 4,
 "nbformat_minor": 2
}
